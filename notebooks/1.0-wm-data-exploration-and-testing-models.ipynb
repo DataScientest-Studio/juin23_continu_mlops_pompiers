{
 "cells": [
  {
   "cell_type": "markdown",
   "metadata": {},
   "source": [
    "# Projet MLOps Pompiers"
   ]
  },
  {
   "cell_type": "code",
   "execution_count": 1,
   "metadata": {},
   "outputs": [],
   "source": [
    "import pandas as pd\n",
    "import numpy as np\n",
    "from ydata_profiling import ProfileReport\n",
    "from sklearn.preprocessing import LabelEncoder"
   ]
  },
  {
   "cell_type": "code",
   "execution_count": 2,
   "metadata": {},
   "outputs": [
    {
     "name": "stderr",
     "output_type": "stream",
     "text": [
      "C:\\Users\\w_sat\\AppData\\Local\\Temp\\ipykernel_17300\\454423457.py:1: DtypeWarning: Columns (0) have mixed types. Specify dtype option on import or set low_memory=False.\n",
      "  incidents = pd.read_csv(r\"LFB_Incident_data_from_2009.csv\")\n",
      "C:\\Users\\w_sat\\AppData\\Local\\Temp\\ipykernel_17300\\454423457.py:2: DtypeWarning: Columns (0,13) have mixed types. Specify dtype option on import or set low_memory=False.\n",
      "  mobilisation = pd.read_csv(r\"LFB_Mobilisation_data_from_2009.csv\")\n"
     ]
    }
   ],
   "source": [
    "incidents = pd.read_csv(r\"LFB_Incident_data_from_2009.csv\")\n",
    "mobilisation = pd.read_csv(r\"LFB_Mobilisation_data_from_2009.csv\")"
   ]
  },
  {
   "cell_type": "markdown",
   "metadata": {},
   "source": [
    "## Exploration & Pre-processing"
   ]
  },
  {
   "cell_type": "markdown",
   "metadata": {},
   "source": [
    "Dataset \"Incidents\""
   ]
  },
  {
   "cell_type": "code",
   "execution_count": 3,
   "metadata": {},
   "outputs": [
    {
     "name": "stdout",
     "output_type": "stream",
     "text": [
      "<class 'pandas.core.frame.DataFrame'>\n",
      "RangeIndex: 1592069 entries, 0 to 1592068\n",
      "Data columns (total 39 columns):\n",
      " #   Column                                  Non-Null Count    Dtype  \n",
      "---  ------                                  --------------    -----  \n",
      " 0   IncidentNumber                          1592069 non-null  object \n",
      " 1   DateOfCall                              1592069 non-null  object \n",
      " 2   CalYear                                 1592069 non-null  int64  \n",
      " 3   TimeOfCall                              1592069 non-null  object \n",
      " 4   HourOfCall                              1592069 non-null  int64  \n",
      " 5   IncidentGroup                           1592069 non-null  object \n",
      " 6   StopCodeDescription                     1592069 non-null  object \n",
      " 7   SpecialServiceType                      506554 non-null   object \n",
      " 8   PropertyCategory                        1592069 non-null  object \n",
      " 9   PropertyType                            1592069 non-null  object \n",
      " 10  AddressQualifier                        1592069 non-null  object \n",
      " 11  Postcode_full                           813710 non-null   object \n",
      " 12  Postcode_district                       1592069 non-null  object \n",
      " 13  UPRN                                    1450736 non-null  float64\n",
      " 14  USRN                                    1429198 non-null  float64\n",
      " 15  IncGeo_BoroughCode                      1592069 non-null  object \n",
      " 16  IncGeo_BoroughName                      1592069 non-null  object \n",
      " 17  ProperCase                              1592069 non-null  object \n",
      " 18  IncGeo_WardCode                         1592040 non-null  object \n",
      " 19  IncGeo_WardName                         1592040 non-null  object \n",
      " 20  IncGeo_WardNameNew                      1592040 non-null  object \n",
      " 21  Easting_m                               813710 non-null   float64\n",
      " 22  Northing_m                              813710 non-null   float64\n",
      " 23  Easting_rounded                         1592069 non-null  int64  \n",
      " 24  Northing_rounded                        1592069 non-null  int64  \n",
      " 25  Latitude                                813710 non-null   float64\n",
      " 26  Longitude                               813710 non-null   float64\n",
      " 27  FRS                                     1592069 non-null  object \n",
      " 28  IncidentStationGround                   1592068 non-null  object \n",
      " 29  FirstPumpArriving_AttendanceTime        1465240 non-null  float64\n",
      " 30  FirstPumpArriving_DeployedFromStation   1465229 non-null  object \n",
      " 31  SecondPumpArriving_AttendanceTime       569254 non-null   float64\n",
      " 32  SecondPumpArriving_DeployedFromStation  569247 non-null   object \n",
      " 33  NumStationsWithPumpsAttending           1579852 non-null  float64\n",
      " 34  NumPumpsAttending                       1579852 non-null  float64\n",
      " 35  PumpCount                               1592069 non-null  int64  \n",
      " 36  PumpMinutesRounded                      1592069 non-null  int64  \n",
      " 37  Notional Cost (£)                       1592069 non-null  int64  \n",
      " 38  NumCalls                                1590225 non-null  float64\n",
      "dtypes: float64(11), int64(7), object(21)\n",
      "memory usage: 473.7+ MB\n"
     ]
    }
   ],
   "source": [
    "incidents.info()"
   ]
  },
  {
   "cell_type": "code",
   "execution_count": 4,
   "metadata": {},
   "outputs": [
    {
     "data": {
      "text/plain": [
       "IncidentNumber                                  0\n",
       "DateOfCall                                      0\n",
       "CalYear                                         0\n",
       "TimeOfCall                                      0\n",
       "HourOfCall                                      0\n",
       "IncidentGroup                                   0\n",
       "StopCodeDescription                             0\n",
       "SpecialServiceType                        1085515\n",
       "PropertyCategory                                0\n",
       "PropertyType                                    0\n",
       "AddressQualifier                                0\n",
       "Postcode_full                              778359\n",
       "Postcode_district                               0\n",
       "UPRN                                       141333\n",
       "USRN                                       162871\n",
       "IncGeo_BoroughCode                              0\n",
       "IncGeo_BoroughName                              0\n",
       "ProperCase                                      0\n",
       "IncGeo_WardCode                                29\n",
       "IncGeo_WardName                                29\n",
       "IncGeo_WardNameNew                             29\n",
       "Easting_m                                  778359\n",
       "Northing_m                                 778359\n",
       "Easting_rounded                                 0\n",
       "Northing_rounded                                0\n",
       "Latitude                                   778359\n",
       "Longitude                                  778359\n",
       "FRS                                             0\n",
       "IncidentStationGround                           1\n",
       "FirstPumpArriving_AttendanceTime           126829\n",
       "FirstPumpArriving_DeployedFromStation      126840\n",
       "SecondPumpArriving_AttendanceTime         1022815\n",
       "SecondPumpArriving_DeployedFromStation    1022822\n",
       "NumStationsWithPumpsAttending               12217\n",
       "NumPumpsAttending                           12217\n",
       "PumpCount                                       0\n",
       "PumpMinutesRounded                              0\n",
       "Notional Cost (£)                               0\n",
       "NumCalls                                     1844\n",
       "dtype: int64"
      ]
     },
     "execution_count": 4,
     "metadata": {},
     "output_type": "execute_result"
    }
   ],
   "source": [
    "incidents.isna().sum()"
   ]
  },
  {
   "cell_type": "code",
   "execution_count": 5,
   "metadata": {},
   "outputs": [
    {
     "data": {
      "text/plain": [
       "0"
      ]
     },
     "execution_count": 5,
     "metadata": {},
     "output_type": "execute_result"
    }
   ],
   "source": [
    "incidents.duplicated().sum()"
   ]
  },
  {
   "cell_type": "code",
   "execution_count": 6,
   "metadata": {},
   "outputs": [],
   "source": [
    "#Liste des colonnes à supprimer du dataframe incidents :\n",
    "incid_cols = ['CalYear', 'HourOfCall', 'SpecialServiceType', 'AddressQualifier', 'Postcode_full',\n",
    "             'UPRN', 'USRN','IncGeo_BoroughName', 'IncGeo_WardName', 'IncGeo_WardNameNew', 'ProperCase', 'Easting_m', 'Northing_m', 'Latitude',\n",
    "               'Longitude', 'FRS','SecondPumpArriving_AttendanceTime',\n",
    "                 'SecondPumpArriving_DeployedFromStation', 'Notional Cost (£)']"
   ]
  },
  {
   "cell_type": "code",
   "execution_count": 7,
   "metadata": {},
   "outputs": [],
   "source": [
    "df_incid = incidents.drop(columns=incid_cols, axis=1)"
   ]
  },
  {
   "cell_type": "code",
   "execution_count": 8,
   "metadata": {},
   "outputs": [],
   "source": [
    "df_incid.dropna(subset=['FirstPumpArriving_AttendanceTime', 'IncGeo_WardCode', 'IncidentStationGround', 'NumCalls'], inplace=True)"
   ]
  },
  {
   "cell_type": "code",
   "execution_count": 9,
   "metadata": {},
   "outputs": [
    {
     "data": {
      "text/plain": [
       "IncidentNumber                            0\n",
       "DateOfCall                                0\n",
       "TimeOfCall                                0\n",
       "IncidentGroup                             0\n",
       "StopCodeDescription                       0\n",
       "PropertyCategory                          0\n",
       "PropertyType                              0\n",
       "Postcode_district                         0\n",
       "IncGeo_BoroughCode                        0\n",
       "IncGeo_WardCode                           0\n",
       "Easting_rounded                           0\n",
       "Northing_rounded                          0\n",
       "IncidentStationGround                     0\n",
       "FirstPumpArriving_AttendanceTime          0\n",
       "FirstPumpArriving_DeployedFromStation    11\n",
       "NumStationsWithPumpsAttending             0\n",
       "NumPumpsAttending                         0\n",
       "PumpCount                                 0\n",
       "PumpMinutesRounded                        0\n",
       "NumCalls                                  0\n",
       "dtype: int64"
      ]
     },
     "execution_count": 9,
     "metadata": {},
     "output_type": "execute_result"
    }
   ],
   "source": [
    "df_incid.isna().sum()"
   ]
  },
  {
   "cell_type": "code",
   "execution_count": 10,
   "metadata": {},
   "outputs": [
    {
     "data": {
      "text/plain": [
       "IncidentNumber                           0\n",
       "DateOfCall                               0\n",
       "TimeOfCall                               0\n",
       "IncidentGroup                            0\n",
       "StopCodeDescription                      0\n",
       "PropertyCategory                         0\n",
       "PropertyType                             0\n",
       "Postcode_district                        0\n",
       "IncGeo_BoroughCode                       0\n",
       "IncGeo_WardCode                          0\n",
       "Easting_rounded                          0\n",
       "Northing_rounded                         0\n",
       "IncidentStationGround                    0\n",
       "FirstPumpArriving_AttendanceTime         0\n",
       "FirstPumpArriving_DeployedFromStation    0\n",
       "NumStationsWithPumpsAttending            0\n",
       "NumPumpsAttending                        0\n",
       "PumpCount                                0\n",
       "PumpMinutesRounded                       0\n",
       "NumCalls                                 0\n",
       "dtype: int64"
      ]
     },
     "execution_count": 10,
     "metadata": {},
     "output_type": "execute_result"
    }
   ],
   "source": [
    "# Remplacer les 11 NaN de DeployedFromStation par les valeurs respectives de IncidentStationGround :\n",
    "df_incid['FirstPumpArriving_DeployedFromStation'] = df_incid['FirstPumpArriving_DeployedFromStation'].fillna(df_incid['IncidentStationGround'])\n",
    "df_incid.isna().sum()"
   ]
  },
  {
   "cell_type": "code",
   "execution_count": 11,
   "metadata": {},
   "outputs": [
    {
     "data": {
      "text/plain": [
       "(1464222, 20)"
      ]
     },
     "execution_count": 11,
     "metadata": {},
     "output_type": "execute_result"
    }
   ],
   "source": [
    "df_incid.shape"
   ]
  },
  {
   "cell_type": "code",
   "execution_count": 12,
   "metadata": {},
   "outputs": [],
   "source": [
    "df_incid['TimeOfCall'] = df_incid['DateOfCall'] + ' ' + df_incid['TimeOfCall']\n",
    "df_incid.drop(['DateOfCall'], axis=1, inplace=True)\n",
    "df_incid['TimeOfCall'] = pd.to_datetime(df_incid['TimeOfCall'], format='%d %b %Y %H:%M:%S')"
   ]
  },
  {
   "cell_type": "code",
   "execution_count": 13,
   "metadata": {},
   "outputs": [
    {
     "data": {
      "text/plain": [
       "0   2009-01-01 00:00:37\n",
       "2   2009-01-01 00:03:00\n",
       "3   2009-01-01 00:04:27\n",
       "4   2009-01-01 00:05:39\n",
       "5   2009-01-01 00:06:03\n",
       "Name: TimeOfCall, dtype: datetime64[ns]"
      ]
     },
     "execution_count": 13,
     "metadata": {},
     "output_type": "execute_result"
    }
   ],
   "source": [
    "df_incid['TimeOfCall'].head()"
   ]
  },
  {
   "cell_type": "code",
   "execution_count": 14,
   "metadata": {},
   "outputs": [
    {
     "data": {
      "text/plain": [
       "IncidentNumber                                   object\n",
       "TimeOfCall                               datetime64[ns]\n",
       "IncidentGroup                                    object\n",
       "StopCodeDescription                              object\n",
       "PropertyCategory                                 object\n",
       "PropertyType                                     object\n",
       "Postcode_district                                object\n",
       "IncGeo_BoroughCode                               object\n",
       "IncGeo_WardCode                                  object\n",
       "Easting_rounded                                   int64\n",
       "Northing_rounded                                  int64\n",
       "IncidentStationGround                            object\n",
       "FirstPumpArriving_AttendanceTime                float64\n",
       "FirstPumpArriving_DeployedFromStation            object\n",
       "NumStationsWithPumpsAttending                   float64\n",
       "NumPumpsAttending                               float64\n",
       "PumpCount                                         int64\n",
       "PumpMinutesRounded                                int64\n",
       "NumCalls                                        float64\n",
       "dtype: object"
      ]
     },
     "execution_count": 14,
     "metadata": {},
     "output_type": "execute_result"
    }
   ],
   "source": [
    "df_incid.dtypes"
   ]
  },
  {
   "cell_type": "markdown",
   "metadata": {},
   "source": [
    "## Dataset \"Mobilisation\""
   ]
  },
  {
   "cell_type": "code",
   "execution_count": 15,
   "metadata": {},
   "outputs": [
    {
     "name": "stdout",
     "output_type": "stream",
     "text": [
      "<class 'pandas.core.frame.DataFrame'>\n",
      "RangeIndex: 2211937 entries, 0 to 2211936\n",
      "Data columns (total 22 columns):\n",
      " #   Column                    Dtype  \n",
      "---  ------                    -----  \n",
      " 0   IncidentNumber            object \n",
      " 1   CalYear                   int64  \n",
      " 2   HourOfCall                int64  \n",
      " 3   ResourceMobilisationId    int64  \n",
      " 4   Resource_Code             object \n",
      " 5   PerformanceReporting      object \n",
      " 6   DateAndTimeMobilised      object \n",
      " 7   DateAndTimeMobile         object \n",
      " 8   DateAndTimeArrived        object \n",
      " 9   TurnoutTimeSeconds        float64\n",
      " 10  TravelTimeSeconds         float64\n",
      " 11  AttendanceTimeSeconds     int64  \n",
      " 12  DateAndTimeLeft           object \n",
      " 13  DateAndTimeReturned       object \n",
      " 14  DeployedFromStation_Code  object \n",
      " 15  DeployedFromStation_Name  object \n",
      " 16  DeployedFromLocation      object \n",
      " 17  PumpOrder                 int64  \n",
      " 18  PlusCode_Code             object \n",
      " 19  PlusCode_Description      object \n",
      " 20  DelayCodeId               float64\n",
      " 21  DelayCode_Description     object \n",
      "dtypes: float64(3), int64(5), object(14)\n",
      "memory usage: 371.3+ MB\n"
     ]
    }
   ],
   "source": [
    "mobilisation.info()"
   ]
  },
  {
   "cell_type": "code",
   "execution_count": 16,
   "metadata": {},
   "outputs": [
    {
     "data": {
      "text/plain": [
       "IncidentNumber                    0\n",
       "CalYear                           0\n",
       "HourOfCall                        0\n",
       "ResourceMobilisationId            0\n",
       "Resource_Code                     0\n",
       "PerformanceReporting              0\n",
       "DateAndTimeMobilised              0\n",
       "DateAndTimeMobile             27161\n",
       "DateAndTimeArrived                0\n",
       "TurnoutTimeSeconds            27289\n",
       "TravelTimeSeconds             27382\n",
       "AttendanceTimeSeconds             0\n",
       "DateAndTimeLeft               46356\n",
       "DateAndTimeReturned         1238779\n",
       "DeployedFromStation_Code         27\n",
       "DeployedFromStation_Name         27\n",
       "DeployedFromLocation           1098\n",
       "PumpOrder                         0\n",
       "PlusCode_Code                     0\n",
       "PlusCode_Description              0\n",
       "DelayCodeId                 1664927\n",
       "DelayCode_Description       1664927\n",
       "dtype: int64"
      ]
     },
     "execution_count": 16,
     "metadata": {},
     "output_type": "execute_result"
    }
   ],
   "source": [
    "mobilisation.isna().sum()"
   ]
  },
  {
   "cell_type": "code",
   "execution_count": 17,
   "metadata": {},
   "outputs": [
    {
     "data": {
      "text/plain": [
       "0"
      ]
     },
     "execution_count": 17,
     "metadata": {},
     "output_type": "execute_result"
    }
   ],
   "source": [
    "mobilisation.duplicated().sum()"
   ]
  },
  {
   "cell_type": "code",
   "execution_count": 18,
   "metadata": {},
   "outputs": [],
   "source": [
    "df_mobil = mobilisation[mobilisation['PumpOrder']==1]"
   ]
  },
  {
   "cell_type": "code",
   "execution_count": 19,
   "metadata": {},
   "outputs": [],
   "source": [
    "df_mobil = df_mobil[['IncidentNumber', 'PumpOrder', 'DelayCodeId']]"
   ]
  },
  {
   "cell_type": "code",
   "execution_count": 20,
   "metadata": {},
   "outputs": [
    {
     "data": {
      "text/plain": [
       "DelayCodeId\n",
       "12.0    249973\n",
       "9.0      82033\n",
       "5.0      27774\n",
       "8.0      26343\n",
       "7.0      14312\n",
       "11.0      7446\n",
       "13.0      6927\n",
       "10.0      5582\n",
       "3.0       2211\n",
       "6.0       2162\n",
       "Name: count, dtype: int64"
      ]
     },
     "execution_count": 20,
     "metadata": {},
     "output_type": "execute_result"
    }
   ],
   "source": [
    "df_mobil['DelayCodeId'].value_counts()"
   ]
  },
  {
   "cell_type": "code",
   "execution_count": 21,
   "metadata": {},
   "outputs": [],
   "source": [
    "# Remplacer les DelaiCodeId manquant par 1, supposant que le code 1 = pas de ralentissement.\n",
    "df_mobil['DelayCodeId'] = df_mobil['DelayCodeId'].fillna(1)"
   ]
  },
  {
   "cell_type": "code",
   "execution_count": 22,
   "metadata": {},
   "outputs": [
    {
     "data": {
      "text/plain": [
       "IncidentNumber    0\n",
       "PumpOrder         0\n",
       "DelayCodeId       0\n",
       "dtype: int64"
      ]
     },
     "execution_count": 22,
     "metadata": {},
     "output_type": "execute_result"
    }
   ],
   "source": [
    "df_mobil.isna().sum()"
   ]
  },
  {
   "cell_type": "code",
   "execution_count": 23,
   "metadata": {},
   "outputs": [
    {
     "data": {
      "text/plain": [
       "IncidentNumber     object\n",
       "PumpOrder           int64\n",
       "DelayCodeId       float64\n",
       "dtype: object"
      ]
     },
     "execution_count": 23,
     "metadata": {},
     "output_type": "execute_result"
    }
   ],
   "source": [
    "df_mobil.dtypes"
   ]
  },
  {
   "cell_type": "code",
   "execution_count": 24,
   "metadata": {},
   "outputs": [],
   "source": [
    "df_mobil['DelayCodeId'] = df_mobil['DelayCodeId'].astype('int')"
   ]
  },
  {
   "cell_type": "code",
   "execution_count": 25,
   "metadata": {},
   "outputs": [
    {
     "data": {
      "text/plain": [
       "(1471194, 3)"
      ]
     },
     "execution_count": 25,
     "metadata": {},
     "output_type": "execute_result"
    }
   ],
   "source": [
    "df_mobil.shape"
   ]
  },
  {
   "cell_type": "markdown",
   "metadata": {},
   "source": [
    "## Merge des deux Dataset"
   ]
  },
  {
   "cell_type": "code",
   "execution_count": 26,
   "metadata": {},
   "outputs": [],
   "source": [
    "df = pd.merge(left=df_incid, right=df_mobil, on='IncidentNumber', how='inner')"
   ]
  },
  {
   "cell_type": "code",
   "execution_count": 27,
   "metadata": {},
   "outputs": [],
   "source": [
    "df.drop(columns=['Postcode_district', 'PumpCount', 'PropertyType'], axis = 1, inplace=True)"
   ]
  },
  {
   "cell_type": "code",
   "execution_count": 28,
   "metadata": {},
   "outputs": [],
   "source": [
    "df['Year'] = df['TimeOfCall'].dt.year\n",
    "df['DayOfWeek'] = df['TimeOfCall'].dt.dayofweek\n",
    "df['Hour'] = df['TimeOfCall'].dt.hour"
   ]
  },
  {
   "cell_type": "code",
   "execution_count": 29,
   "metadata": {},
   "outputs": [
    {
     "name": "stdout",
     "output_type": "stream",
     "text": [
      "<class 'pandas.core.frame.DataFrame'>\n",
      "RangeIndex: 1452073 entries, 0 to 1452072\n",
      "Data columns (total 21 columns):\n",
      " #   Column                                 Non-Null Count    Dtype         \n",
      "---  ------                                 --------------    -----         \n",
      " 0   IncidentNumber                         1452073 non-null  object        \n",
      " 1   TimeOfCall                             1452073 non-null  datetime64[ns]\n",
      " 2   IncidentGroup                          1452073 non-null  object        \n",
      " 3   StopCodeDescription                    1452073 non-null  object        \n",
      " 4   PropertyCategory                       1452073 non-null  object        \n",
      " 5   IncGeo_BoroughCode                     1452073 non-null  object        \n",
      " 6   IncGeo_WardCode                        1452073 non-null  object        \n",
      " 7   Easting_rounded                        1452073 non-null  int64         \n",
      " 8   Northing_rounded                       1452073 non-null  int64         \n",
      " 9   IncidentStationGround                  1452073 non-null  object        \n",
      " 10  FirstPumpArriving_AttendanceTime       1452073 non-null  float64       \n",
      " 11  FirstPumpArriving_DeployedFromStation  1452073 non-null  object        \n",
      " 12  NumStationsWithPumpsAttending          1452073 non-null  float64       \n",
      " 13  NumPumpsAttending                      1452073 non-null  float64       \n",
      " 14  PumpMinutesRounded                     1452073 non-null  int64         \n",
      " 15  NumCalls                               1452073 non-null  float64       \n",
      " 16  PumpOrder                              1452073 non-null  int64         \n",
      " 17  DelayCodeId                            1452073 non-null  int32         \n",
      " 18  Year                                   1452073 non-null  int32         \n",
      " 19  DayOfWeek                              1452073 non-null  int32         \n",
      " 20  Hour                                   1452073 non-null  int32         \n",
      "dtypes: datetime64[ns](1), float64(4), int32(4), int64(4), object(8)\n",
      "memory usage: 210.5+ MB\n"
     ]
    }
   ],
   "source": [
    "df.info()"
   ]
  },
  {
   "cell_type": "code",
   "execution_count": 30,
   "metadata": {},
   "outputs": [],
   "source": [
    "# Profiling du dataframe incidents :\n",
    "# profile = ProfileReport(df, title=\"Profiling Report\")\n",
    "# profile"
   ]
  },
  {
   "cell_type": "code",
   "execution_count": 31,
   "metadata": {},
   "outputs": [],
   "source": [
    "num_cols = ['NumStationsWithPumpsAttending', 'NumPumpsAttending', 'NumCalls', 'DelayCodeId']\n",
    "df[num_cols] = df[num_cols].astype(int)"
   ]
  },
  {
   "cell_type": "code",
   "execution_count": 32,
   "metadata": {},
   "outputs": [],
   "source": [
    "string_cols = ['IncidentNumber', 'TimeOfCall', 'IncidentGroup', 'StopCodeDescription', 'PropertyCategory',\n",
    "                'IncGeo_BoroughCode', 'IncGeo_WardCode', 'IncidentStationGround', 'FirstPumpArriving_DeployedFromStation']\n",
    "\n",
    "df[string_cols] = df[string_cols].astype(str)"
   ]
  },
  {
   "cell_type": "code",
   "execution_count": 33,
   "metadata": {},
   "outputs": [],
   "source": [
    "label_encoder = LabelEncoder()\n",
    "df_encoded = df.apply(label_encoder.fit_transform)"
   ]
  },
  {
   "cell_type": "code",
   "execution_count": 34,
   "metadata": {},
   "outputs": [
    {
     "data": {
      "text/plain": [
       "IncidentNumber                           int32\n",
       "TimeOfCall                               int32\n",
       "IncidentGroup                            int32\n",
       "StopCodeDescription                      int32\n",
       "PropertyCategory                         int32\n",
       "IncGeo_BoroughCode                       int32\n",
       "IncGeo_WardCode                          int32\n",
       "Easting_rounded                          int64\n",
       "Northing_rounded                         int64\n",
       "IncidentStationGround                    int32\n",
       "FirstPumpArriving_AttendanceTime         int64\n",
       "FirstPumpArriving_DeployedFromStation    int32\n",
       "NumStationsWithPumpsAttending            int64\n",
       "NumPumpsAttending                        int64\n",
       "PumpMinutesRounded                       int64\n",
       "NumCalls                                 int64\n",
       "PumpOrder                                int64\n",
       "DelayCodeId                              int64\n",
       "Year                                     int64\n",
       "DayOfWeek                                int64\n",
       "Hour                                     int64\n",
       "dtype: object"
      ]
     },
     "execution_count": 34,
     "metadata": {},
     "output_type": "execute_result"
    }
   ],
   "source": [
    "df_encoded.dtypes"
   ]
  },
  {
   "cell_type": "code",
   "execution_count": 35,
   "metadata": {},
   "outputs": [],
   "source": [
    "X = df_encoded.drop('FirstPumpArriving_AttendanceTime', axis=1)\n",
    "y = df_encoded['FirstPumpArriving_AttendanceTime']"
   ]
  },
  {
   "cell_type": "code",
   "execution_count": 36,
   "metadata": {},
   "outputs": [],
   "source": [
    "from sklearn.model_selection import train_test_split\n",
    "X_train, X_test, y_train, y_test = train_test_split(X, y, test_size = 0.3)"
   ]
  },
  {
   "cell_type": "markdown",
   "metadata": {},
   "source": [
    "Standardisation"
   ]
  },
  {
   "cell_type": "code",
   "execution_count": 38,
   "metadata": {},
   "outputs": [],
   "source": [
    "from sklearn.preprocessing import MinMaxScaler\n",
    "\n",
    "sc = MinMaxScaler()\n",
    "X_train = sc.fit_transform(X_train)\n",
    "X_test = sc.transform(X_test)"
   ]
  },
  {
   "cell_type": "markdown",
   "metadata": {},
   "source": [
    "Linear Regression"
   ]
  },
  {
   "cell_type": "code",
   "execution_count": 39,
   "metadata": {},
   "outputs": [
    {
     "data": {
      "text/html": [
       "<style>#sk-container-id-1 {color: black;}#sk-container-id-1 pre{padding: 0;}#sk-container-id-1 div.sk-toggleable {background-color: white;}#sk-container-id-1 label.sk-toggleable__label {cursor: pointer;display: block;width: 100%;margin-bottom: 0;padding: 0.3em;box-sizing: border-box;text-align: center;}#sk-container-id-1 label.sk-toggleable__label-arrow:before {content: \"▸\";float: left;margin-right: 0.25em;color: #696969;}#sk-container-id-1 label.sk-toggleable__label-arrow:hover:before {color: black;}#sk-container-id-1 div.sk-estimator:hover label.sk-toggleable__label-arrow:before {color: black;}#sk-container-id-1 div.sk-toggleable__content {max-height: 0;max-width: 0;overflow: hidden;text-align: left;background-color: #f0f8ff;}#sk-container-id-1 div.sk-toggleable__content pre {margin: 0.2em;color: black;border-radius: 0.25em;background-color: #f0f8ff;}#sk-container-id-1 input.sk-toggleable__control:checked~div.sk-toggleable__content {max-height: 200px;max-width: 100%;overflow: auto;}#sk-container-id-1 input.sk-toggleable__control:checked~label.sk-toggleable__label-arrow:before {content: \"▾\";}#sk-container-id-1 div.sk-estimator input.sk-toggleable__control:checked~label.sk-toggleable__label {background-color: #d4ebff;}#sk-container-id-1 div.sk-label input.sk-toggleable__control:checked~label.sk-toggleable__label {background-color: #d4ebff;}#sk-container-id-1 input.sk-hidden--visually {border: 0;clip: rect(1px 1px 1px 1px);clip: rect(1px, 1px, 1px, 1px);height: 1px;margin: -1px;overflow: hidden;padding: 0;position: absolute;width: 1px;}#sk-container-id-1 div.sk-estimator {font-family: monospace;background-color: #f0f8ff;border: 1px dotted black;border-radius: 0.25em;box-sizing: border-box;margin-bottom: 0.5em;}#sk-container-id-1 div.sk-estimator:hover {background-color: #d4ebff;}#sk-container-id-1 div.sk-parallel-item::after {content: \"\";width: 100%;border-bottom: 1px solid gray;flex-grow: 1;}#sk-container-id-1 div.sk-label:hover label.sk-toggleable__label {background-color: #d4ebff;}#sk-container-id-1 div.sk-serial::before {content: \"\";position: absolute;border-left: 1px solid gray;box-sizing: border-box;top: 0;bottom: 0;left: 50%;z-index: 0;}#sk-container-id-1 div.sk-serial {display: flex;flex-direction: column;align-items: center;background-color: white;padding-right: 0.2em;padding-left: 0.2em;position: relative;}#sk-container-id-1 div.sk-item {position: relative;z-index: 1;}#sk-container-id-1 div.sk-parallel {display: flex;align-items: stretch;justify-content: center;background-color: white;position: relative;}#sk-container-id-1 div.sk-item::before, #sk-container-id-1 div.sk-parallel-item::before {content: \"\";position: absolute;border-left: 1px solid gray;box-sizing: border-box;top: 0;bottom: 0;left: 50%;z-index: -1;}#sk-container-id-1 div.sk-parallel-item {display: flex;flex-direction: column;z-index: 1;position: relative;background-color: white;}#sk-container-id-1 div.sk-parallel-item:first-child::after {align-self: flex-end;width: 50%;}#sk-container-id-1 div.sk-parallel-item:last-child::after {align-self: flex-start;width: 50%;}#sk-container-id-1 div.sk-parallel-item:only-child::after {width: 0;}#sk-container-id-1 div.sk-dashed-wrapped {border: 1px dashed gray;margin: 0 0.4em 0.5em 0.4em;box-sizing: border-box;padding-bottom: 0.4em;background-color: white;}#sk-container-id-1 div.sk-label label {font-family: monospace;font-weight: bold;display: inline-block;line-height: 1.2em;}#sk-container-id-1 div.sk-label-container {text-align: center;}#sk-container-id-1 div.sk-container {/* jupyter's `normalize.less` sets `[hidden] { display: none; }` but bootstrap.min.css set `[hidden] { display: none !important; }` so we also need the `!important` here to be able to override the default hidden behavior on the sphinx rendered scikit-learn.org. See: https://github.com/scikit-learn/scikit-learn/issues/21755 */display: inline-block !important;position: relative;}#sk-container-id-1 div.sk-text-repr-fallback {display: none;}</style><div id=\"sk-container-id-1\" class=\"sk-top-container\"><div class=\"sk-text-repr-fallback\"><pre>LinearRegression()</pre><b>In a Jupyter environment, please rerun this cell to show the HTML representation or trust the notebook. <br />On GitHub, the HTML representation is unable to render, please try loading this page with nbviewer.org.</b></div><div class=\"sk-container\" hidden><div class=\"sk-item\"><div class=\"sk-estimator sk-toggleable\"><input class=\"sk-toggleable__control sk-hidden--visually\" id=\"sk-estimator-id-1\" type=\"checkbox\" checked><label for=\"sk-estimator-id-1\" class=\"sk-toggleable__label sk-toggleable__label-arrow\">LinearRegression</label><div class=\"sk-toggleable__content\"><pre>LinearRegression()</pre></div></div></div></div></div>"
      ],
      "text/plain": [
       "LinearRegression()"
      ]
     },
     "execution_count": 39,
     "metadata": {},
     "output_type": "execute_result"
    }
   ],
   "source": [
    "from sklearn.linear_model import LinearRegression\n",
    "\n",
    "lr = LinearRegression()\n",
    "lr.fit(X_train, y_train)"
   ]
  },
  {
   "cell_type": "code",
   "execution_count": 40,
   "metadata": {},
   "outputs": [
    {
     "name": "stdout",
     "output_type": "stream",
     "text": [
      "Mean Squared Error (MSE):  10308.50893958234\n",
      "Mean Absolute Error (MAE):  69.5796302585592\n",
      "R-squared (R²):  0.4687078485984626\n",
      "Root Mean Squared Error (RMSE):  101.53082753322923\n",
      "Mean Percentage Error (MPE):  -inf\n",
      "\n",
      "Score :\n",
      "score train : 0.46929656027811506\n",
      "score test : 0.4687078485984626\n"
     ]
    }
   ],
   "source": [
    "from sklearn.metrics import mean_squared_error, mean_absolute_error, r2_score\n",
    "\n",
    "y_pred = lr.predict(X_test)\n",
    "\n",
    "mse = mean_squared_error(y_test, y_pred)\n",
    "mae = mean_absolute_error(y_test, y_pred)\n",
    "r2 = r2_score(y_test, y_pred)\n",
    "rmse = np.sqrt(mse)\n",
    "mpe = np.mean((y_test - y_pred) / y_test) * 100\n",
    "\n",
    "# Affichage des métriques\n",
    "print(\"Mean Squared Error (MSE): \", mse)\n",
    "print(\"Mean Absolute Error (MAE): \", mae)\n",
    "print(\"R-squared (R²): \", r2)\n",
    "print(\"Root Mean Squared Error (RMSE): \", rmse)\n",
    "print(\"Mean Percentage Error (MPE): \", mpe)\n",
    "\n",
    "print(\"\\nScore :\")\n",
    "print('score train :', lr.score(X_train, y_train))\n",
    "print('score test :', lr.score(X_test, y_test))\n"
   ]
  },
  {
   "cell_type": "markdown",
   "metadata": {},
   "source": [
    "LightGBM"
   ]
  },
  {
   "cell_type": "code",
   "execution_count": 41,
   "metadata": {},
   "outputs": [
    {
     "name": "stdout",
     "output_type": "stream",
     "text": [
      "[LightGBM] [Warning] Auto-choosing row-wise multi-threading, the overhead of testing was 0.036780 seconds.\n",
      "You can set `force_row_wise=true` to remove the overhead.\n",
      "And if memory is not enough, you can set `force_col_wise=true`.\n",
      "[LightGBM] [Info] Total Bins 1921\n",
      "[LightGBM] [Info] Number of data points in the train set: 1016451, number of used features: 19\n",
      "[LightGBM] [Info] Start training from score 316.546778\n",
      "Mean Squared Error (MSE):  7493.800906664875\n",
      "Mean Absolute Error (MAE):  60.88479761159336\n",
      "R-squared (R²):  0.6137756071987184\n",
      "Root Mean Squared Error (RMSE):  86.56674249771025\n",
      "Mean Percentage Error (MPE):  -inf\n"
     ]
    }
   ],
   "source": [
    "import lightgbm as lgb\n",
    "\n",
    "model_lgb = lgb.LGBMRegressor()\n",
    "model_lgb.fit(X_train, y_train)\n",
    "\n",
    "y_pred = model_lgb.predict(X_test)\n",
    "\n",
    "# Calcul des métriques\n",
    "mse = mean_squared_error(y_test, y_pred)\n",
    "mae = mean_absolute_error(y_test, y_pred)\n",
    "r2 = r2_score(y_test, y_pred)\n",
    "rmse = np.sqrt(mse)\n",
    "mpe = np.mean((y_test - y_pred) / y_test) * 100\n",
    "\n",
    "# Affichage des métriques\n",
    "print(\"Mean Squared Error (MSE): \", mse)\n",
    "print(\"Mean Absolute Error (MAE): \", mae)\n",
    "print(\"R-squared (R²): \", r2)\n",
    "print(\"Root Mean Squared Error (RMSE): \", rmse)\n",
    "print(\"Mean Percentage Error (MPE): \", mpe)"
   ]
  },
  {
   "cell_type": "code",
   "execution_count": 42,
   "metadata": {},
   "outputs": [
    {
     "name": "stdout",
     "output_type": "stream",
     "text": [
      "Exemple 15538:\n",
      "Valeur prédite : 544.4293682364647\n",
      "Valeur réelle : 356\n",
      "--------------------\n",
      "Exemple 147909:\n",
      "Valeur prédite : 227.23883121086163\n",
      "Valeur réelle : 163\n",
      "--------------------\n",
      "Exemple 423137:\n",
      "Valeur prédite : 504.39157719647994\n",
      "Valeur réelle : 532\n",
      "--------------------\n"
     ]
    }
   ],
   "source": [
    "predictions = y_pred\n",
    "y_true = y\n",
    "\n",
    "# Générer un échantillon aléatoire pour l'affichage\n",
    "indices = np.random.choice(len(predictions), size=3, replace=False)\n",
    "\n",
    "# Afficher l'échantillon\n",
    "for index in indices:\n",
    "    print(f\"Exemple {index + 1}:\")\n",
    "    print(f\"Valeur prédite : {predictions[index]}\")\n",
    "    print(f\"Valeur réelle : {y_true[index]}\")\n",
    "    print(\"-\" * 20)"
   ]
  },
  {
   "cell_type": "markdown",
   "metadata": {},
   "source": [
    "Features Importance : "
   ]
  },
  {
   "cell_type": "code",
   "execution_count": 43,
   "metadata": {},
   "outputs": [
    {
     "name": "stdout",
     "output_type": "stream",
     "text": [
      "Feature: Northing_rounded, Importance: 630\n",
      "Feature: Easting_rounded, Importance: 610\n",
      "Feature: FirstPumpArriving_DeployedFromStation, Importance: 371\n",
      "Feature: DelayCodeId, Importance: 265\n",
      "Feature: IncGeo_WardCode, Importance: 230\n",
      "Feature: IncidentStationGround, Importance: 129\n",
      "Feature: TimeOfCall, Importance: 126\n",
      "Feature: Hour, Importance: 112\n",
      "Feature: PropertyCategory, Importance: 111\n",
      "Feature: NumPumpsAttending, Importance: 89\n",
      "Feature: IncGeo_BoroughCode, Importance: 74\n",
      "Feature: IncidentGroup, Importance: 52\n",
      "Feature: NumStationsWithPumpsAttending, Importance: 43\n",
      "Feature: StopCodeDescription, Importance: 41\n",
      "Feature: PumpMinutesRounded, Importance: 39\n",
      "Feature: NumCalls, Importance: 39\n",
      "Feature: IncidentNumber, Importance: 20\n",
      "Feature: DayOfWeek, Importance: 14\n",
      "Feature: Year, Importance: 5\n",
      "Feature: PumpOrder, Importance: 0\n"
     ]
    }
   ],
   "source": [
    "# Importance des fonctionnalités\n",
    "feature_importances = model_lgb.feature_importances_\n",
    "\n",
    "# Associer les importances aux noms de fonctionnalités\n",
    "feature_names = X.columns\n",
    "feature_importance_dict = dict(zip(feature_names, feature_importances))\n",
    "\n",
    "# Trier les importances des fonctionnalités par ordre croissant\n",
    "sorted_importances = sorted(feature_importance_dict.items(), key=lambda x: x[1], reverse = True)\n",
    "\n",
    "# Afficher les importances des fonctionnalités\n",
    "for feature, importance in sorted_importances:\n",
    "    print(f'Feature: {feature}, Importance: {importance}')"
   ]
  }
 ],
 "metadata": {
  "kernelspec": {
   "display_name": "base",
   "language": "python",
   "name": "python3"
  },
  "language_info": {
   "codemirror_mode": {
    "name": "ipython",
    "version": 3
   },
   "file_extension": ".py",
   "mimetype": "text/x-python",
   "name": "python",
   "nbconvert_exporter": "python",
   "pygments_lexer": "ipython3",
   "version": "3.11.4"
  },
  "orig_nbformat": 4
 },
 "nbformat": 4,
 "nbformat_minor": 2
}
